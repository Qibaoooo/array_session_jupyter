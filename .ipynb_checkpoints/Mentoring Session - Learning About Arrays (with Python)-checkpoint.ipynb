{
 "cells": [
  {
   "cell_type": "markdown",
   "id": "42e8942a",
   "metadata": {},
   "source": [
    "```{margin}\n",
    "```\n"
   ]
  },
  {
   "cell_type": "markdown",
   "id": "14095c28",
   "metadata": {},
   "source": [
    "## Introduction 🧑‍💻 \n",
    "---"
   ]
  },
  {
   "cell_type": "markdown",
   "id": "8b2bfa22",
   "metadata": {},
   "source": [
    "Our misson today is to cover:\n",
    "- What is an array\n",
    "- How might you use an array\n",
    "- How to write to and read from an array\n",
    "- Helpful methods that can be used with arrays\n",
    "- There will be a small exercise at the end of the session which requires you to apply the array-knowledge taught! \n",
    "\n",
    "##### I will use python as the language of instruction\n",
    "<br>\n"
   ]
  },
  {
   "cell_type": "markdown",
   "id": "51e222cc",
   "metadata": {},
   "source": [
    "```{margin}\n",
    "```\n"
   ]
  },
  {
   "cell_type": "markdown",
   "id": "883591f9",
   "metadata": {},
   "source": [
    "```{margin}\n",
    "```\n"
   ]
  },
  {
   "cell_type": "markdown",
   "id": "71ef9f50",
   "metadata": {},
   "source": [
    "```{margin}\n",
    "```\n"
   ]
  },
  {
   "cell_type": "markdown",
   "id": "d7aa8a3d",
   "metadata": {},
   "source": [
    "```{margin}\n",
    "```\n"
   ]
  },
  {
   "cell_type": "markdown",
   "id": "d1eb6ace",
   "metadata": {},
   "source": [
    "```{margin}\n",
    "```\n"
   ]
  },
  {
   "cell_type": "markdown",
   "id": "f3cff913",
   "metadata": {},
   "source": [
    "```{margin}\n",
    "```\n"
   ]
  },
  {
   "cell_type": "markdown",
   "id": "dfb388cc",
   "metadata": {},
   "source": [
    "## What is an array?\n",
    "---"
   ]
  },
  {
   "cell_type": "markdown",
   "id": "d45035e4",
   "metadata": {},
   "source": [
    "This is a general definition for array:\n",
    "\n",
    "> \" ...array, is a data structure consisting of a **collection of elements** (values or variables), each identified by at least one array index or key... \" [(from wikipedia's 'array' page)](https://en.wikipedia.org/wiki/Array_data_structure)"
   ]
  },
  {
   "cell_type": "markdown",
   "id": "68d8d2cf",
   "metadata": {},
   "source": [
    "```{margin}\n",
    "```\n"
   ]
  },
  {
   "cell_type": "markdown",
   "id": "a9095a0f",
   "metadata": {},
   "source": [
    "```{margin}\n",
    "```\n"
   ]
  },
  {
   "cell_type": "markdown",
   "id": "26dcd26e",
   "metadata": {},
   "source": [
    "```{margin}\n",
    "```\n"
   ]
  },
  {
   "cell_type": "markdown",
   "id": "846e37e3",
   "metadata": {},
   "source": [
    "```{margin}\n",
    "```\n"
   ]
  },
  {
   "cell_type": "markdown",
   "id": "05ae1711",
   "metadata": {},
   "source": [
    "```{margin}\n",
    "```\n"
   ]
  },
  {
   "cell_type": "markdown",
   "id": "a3160db0",
   "metadata": {},
   "source": [
    "## Why do we need arrays?\n",
    "---"
   ]
  },
  {
   "cell_type": "markdown",
   "id": "dcd9e1b5",
   "metadata": {},
   "source": [
    "Why don't we just create a reference to each variable that we need? "
   ]
  },
  {
   "cell_type": "markdown",
   "id": "43b3fa1c",
   "metadata": {},
   "source": [
    "See below example --\n",
    "\n",
    "We are required to **print out the salaries of some employees** and then calculate the **sum** of all salaries.\n",
    "The data given to us is like this:\n",
    "\n",
    "<div class=\"alert alert-block alert-info\">\n",
    "Employee id, salary <br>\n",
    "0, 5000 <br>\n",
    "1, 6000 <br>\n",
    "2, 5000 <br>\n",
    "3, 5500 <br>\n",
    "4, 4000 <br>\n",
    "</div>"
   ]
  },
  {
   "cell_type": "markdown",
   "id": "dbd5a231",
   "metadata": {},
   "source": [
    "### Approach 1"
   ]
  },
  {
   "cell_type": "code",
   "execution_count": 7,
   "id": "7631291a",
   "metadata": {},
   "outputs": [
    {
     "name": "stdout",
     "output_type": "stream",
     "text": [
      "Salary of employee0 is 5000\n",
      "Salary of employee1 is 6000\n",
      "Salary of employee2 is 5000\n",
      "Salary of employee3 is 5500\n",
      "Salary of employee4 is 4000\n",
      "Sum of all salaries is 25500\n"
     ]
    }
   ],
   "source": [
    "# Without array\n",
    "\n",
    "employee0 = 5000\n",
    "employee1 = 6000\n",
    "employee2 = 5000\n",
    "employee3 = 5500\n",
    "employee4 = 4000\n",
    "\n",
    "print(f'Salary of employee0 is { employee0 }')\n",
    "print(f'Salary of employee1 is { employee1 }')\n",
    "print(f'Salary of employee2 is { employee2 }')\n",
    "print(f'Salary of employee3 is { employee3 }')\n",
    "print(f'Salary of employee4 is { employee4 }')\n",
    "\n",
    "print(f'Sum of all salaries is { employee0 + employee1 + employee2 + employee3 + employee4 }')\n"
   ]
  },
  {
   "cell_type": "markdown",
   "id": "b97c2d1a",
   "metadata": {},
   "source": [
    "> 🙈 <br> Imagine when there are 5000 employees instead of just 5? "
   ]
  },
  {
   "cell_type": "markdown",
   "id": "618ec188",
   "metadata": {},
   "source": [
    "> ✨ <br>  We can use an array to group the data. Then we are able to process them with higher efficiency."
   ]
  },
  {
   "cell_type": "markdown",
   "id": "1c41358b",
   "metadata": {},
   "source": [
    "### Approach 2"
   ]
  },
  {
   "cell_type": "code",
   "execution_count": 8,
   "id": "33643044",
   "metadata": {},
   "outputs": [
    {
     "name": "stdout",
     "output_type": "stream",
     "text": [
      "Salary of Employee0 is 5000\n",
      "Salary of Employee1 is 6000\n",
      "Salary of Employee2 is 5000\n",
      "Salary of Employee3 is 5500\n",
      "Salary of Employee4 is 4000\n",
      "Sum of all salaries is 25500\n"
     ]
    }
   ],
   "source": [
    "# With array (list)\n",
    "\n",
    "salaries = [5000, 6000, 5000, 5500, 4000]\n",
    "\n",
    "# loop\n",
    "for i,salary in enumerate(salaries):\n",
    "    print(f'Salary of Employee{ i } is { salary }')\n",
    "\n",
    "#sum\n",
    "print(f'Sum of all salaries is { sum(salaries) }')\n",
    "\n"
   ]
  },
  {
   "cell_type": "markdown",
   "id": "bef0e32b",
   "metadata": {},
   "source": [
    "> 😍 <br> Only 4 lines of code to achieve the same result, no matter how many employees join later!"
   ]
  },
  {
   "cell_type": "markdown",
   "id": "103b625a",
   "metadata": {},
   "source": [
    "```{margin}\n",
    "```\n"
   ]
  },
  {
   "cell_type": "markdown",
   "id": "85d9055e",
   "metadata": {},
   "source": [
    "```{margin}\n",
    "```\n"
   ]
  },
  {
   "cell_type": "markdown",
   "id": "e0114fe3",
   "metadata": {},
   "source": [
    "```{margin}\n",
    "```\n"
   ]
  },
  {
   "cell_type": "markdown",
   "id": "25f4ed49",
   "metadata": {},
   "source": [
    "```{margin}\n",
    "```\n"
   ]
  },
  {
   "cell_type": "markdown",
   "id": "93a3ff5a",
   "metadata": {},
   "source": [
    "```{margin}\n",
    "```\n"
   ]
  },
  {
   "cell_type": "markdown",
   "id": "3fe17eef",
   "metadata": {},
   "source": [
    "```{margin}\n",
    "```\n"
   ]
  },
  {
   "cell_type": "markdown",
   "id": "4f0d954c",
   "metadata": {},
   "source": [
    "## \"Array\" in Python\n",
    "----"
   ]
  },
  {
   "cell_type": "markdown",
   "id": "cc35baf0",
   "metadata": {},
   "source": [
    "In python, the most commonly used array-like data structure is `list`.\n",
    "\n",
    "In this session, we will focus on learning the basics of python `list`.\n",
    "\n",
    "#### (Python does have `array` as a module and it is part of the python standard library.)"
   ]
  },
  {
   "cell_type": "markdown",
   "id": "0fb2ba04",
   "metadata": {},
   "source": [
    "```{margin}\n",
    "```\n"
   ]
  },
  {
   "cell_type": "markdown",
   "id": "ef58ebd9",
   "metadata": {},
   "source": [
    "```{margin}\n",
    "```\n"
   ]
  },
  {
   "cell_type": "markdown",
   "id": "c4f1c059",
   "metadata": {},
   "source": [
    "```{margin}\n",
    "```\n"
   ]
  },
  {
   "cell_type": "markdown",
   "id": "0223596f",
   "metadata": {},
   "source": [
    "```{margin}\n",
    "```\n"
   ]
  },
  {
   "cell_type": "markdown",
   "id": "5d341f49",
   "metadata": {},
   "source": [
    "```{margin}\n",
    "```\n"
   ]
  },
  {
   "cell_type": "markdown",
   "id": "168b07b8",
   "metadata": {},
   "source": [
    "```{margin}\n",
    "```\n"
   ]
  },
  {
   "cell_type": "markdown",
   "id": "83b11b8d",
   "metadata": {},
   "source": [
    "## How do we use a list in python?\n",
    "\n",
    "---"
   ]
  },
  {
   "cell_type": "markdown",
   "id": "7a9d57ee",
   "metadata": {},
   "source": [
    "- ### Basic Operations"
   ]
  },
  {
   "cell_type": "code",
   "execution_count": 14,
   "id": "3df9d609",
   "metadata": {},
   "outputs": [],
   "source": [
    "# Declaration\n",
    "\n",
    "salaries = [5000, 6000, 5000, 5500, 4000]\n",
    "\n",
    "empty_list = []\n",
    "\n",
    "mixed_types = ['zero', 1, 2]"
   ]
  },
  {
   "cell_type": "code",
   "execution_count": 19,
   "id": "27bf309c",
   "metadata": {},
   "outputs": [
    {
     "name": "stdout",
     "output_type": "stream",
     "text": [
      "5000\n",
      "4000\n"
     ]
    },
    {
     "ename": "IndexError",
     "evalue": "list index out of range",
     "output_type": "error",
     "traceback": [
      "\u001b[0;31m---------------------------------------------------------------------------\u001b[0m",
      "\u001b[0;31mIndexError\u001b[0m                                Traceback (most recent call last)",
      "Input \u001b[0;32mIn [19]\u001b[0m, in \u001b[0;36m<cell line: 7>\u001b[0;34m()\u001b[0m\n\u001b[1;32m      3\u001b[0m \u001b[38;5;28mprint\u001b[39m(salaries[\u001b[38;5;241m0\u001b[39m])\n\u001b[1;32m      5\u001b[0m \u001b[38;5;28mprint\u001b[39m(salaries[\u001b[38;5;241m-\u001b[39m\u001b[38;5;241m1\u001b[39m]) \u001b[38;5;66;03m# negative indexing\u001b[39;00m\n\u001b[0;32m----> 7\u001b[0m \u001b[38;5;28mprint\u001b[39m(\u001b[43msalaries\u001b[49m\u001b[43m[\u001b[49m\u001b[38;5;241;43m5\u001b[39;49m\u001b[43m]\u001b[49m)\n",
      "\u001b[0;31mIndexError\u001b[0m: list index out of range"
     ]
    }
   ],
   "source": [
    "# Read element\n",
    "\n",
    "print(salaries[0])\n",
    "\n",
    "print(salaries[-1]) # negative indexing\n",
    "\n",
    "print(salaries[5]) # IndexError"
   ]
  },
  {
   "cell_type": "code",
   "execution_count": 20,
   "id": "cd183dcb",
   "metadata": {},
   "outputs": [
    {
     "name": "stdout",
     "output_type": "stream",
     "text": [
      "salary for Employee0 is now 5001\n"
     ]
    }
   ],
   "source": [
    "# Write element\n",
    "\n",
    "salaries[0] = 5001\n",
    "\n",
    "print(f'salary for Employee0 is now {salaries[0]}')"
   ]
  },
  {
   "cell_type": "markdown",
   "id": "7e92b3b9",
   "metadata": {},
   "source": [
    "```{margin}\n",
    "```\n"
   ]
  },
  {
   "cell_type": "markdown",
   "id": "d166f5b9",
   "metadata": {},
   "source": [
    "```{margin}\n",
    "```\n"
   ]
  },
  {
   "cell_type": "markdown",
   "id": "7a311b96",
   "metadata": {},
   "source": [
    "```{margin}\n",
    "```\n"
   ]
  },
  {
   "cell_type": "markdown",
   "id": "0dfd9ed6",
   "metadata": {},
   "source": [
    "- ### List Methods"
   ]
  },
  {
   "cell_type": "markdown",
   "id": "eee5e982",
   "metadata": {},
   "source": [
    "Python includes following list methods:\n",
    "\n",
    "<div class=\"alert alert-block alert-info\">\n",
    "list.append(obj) -\n",
    "Appends object obj to list\n",
    "<br><br>\n",
    "list.count(obj) -\n",
    "Returns count of how many times obj occurs in list\n",
    "<br><br>\n",
    "list.extend(seq) -\n",
    "Appends the contents of seq to list\n",
    "<br><br>\n",
    "list.index(obj) -\n",
    "Returns the lowest index in list that obj appears\n",
    "<br><br>\n",
    "list.insert(index, obj) -\n",
    "Inserts object obj into list at offset index\n",
    "<br><br>\n",
    "list.pop(obj=list[-1]) -\n",
    "Removes and returns last object or obj from list\n",
    "<br><br>\n",
    "list.remove(obj) -\n",
    "Removes object obj from list\n",
    "<br><br>\n",
    "list.reverse() -\n",
    "Reverses objects of list in place\n",
    "<br><br>\n",
    "list.sort([func]) -\n",
    "Sorts objects of list, use compare func if given\n",
    "</div>"
   ]
  },
  {
   "cell_type": "code",
   "execution_count": null,
   "id": "029eecad",
   "metadata": {},
   "outputs": [],
   "source": [
    "# list.append()\n",
    "\n",
    "odd_numbers = [1, 3, 5]\n",
    "\n",
    "odd_numbers.append(7)\n",
    "\n",
    "print(odd_numbers)\n"
   ]
  },
  {
   "cell_type": "code",
   "execution_count": null,
   "id": "c3db94d6",
   "metadata": {},
   "outputs": [],
   "source": [
    "# list.extend()\n",
    "\n",
    "odd_numbers = [1, 3, 5]\n",
    "\n",
    "odd_numbers.extend([7, 9, 11, 13])\n",
    "\n",
    "print(odd_numbers)\n"
   ]
  },
  {
   "cell_type": "code",
   "execution_count": null,
   "id": "42911238",
   "metadata": {},
   "outputs": [],
   "source": [
    "# we can also use + operator to combine two list, it is called 'concatenation'\n",
    "odd_numbers = [1, 3, 5]\n",
    "\n",
    "print(odd_numbers + [7, 9, 11, 13])\n"
   ]
  },
  {
   "cell_type": "code",
   "execution_count": 22,
   "id": "ba2b56ae",
   "metadata": {},
   "outputs": [
    {
     "name": "stdout",
     "output_type": "stream",
     "text": [
      "2\n"
     ]
    }
   ],
   "source": [
    "# list.index()\n",
    "\n",
    "odd_numbers = [1, 3, 5]\n",
    "\n",
    "print(odd_numbers.index(5))\n",
    "\n",
    "# print(odd_numbers.index(99))\n"
   ]
  },
  {
   "cell_type": "code",
   "execution_count": 26,
   "id": "c3d1fee8",
   "metadata": {},
   "outputs": [
    {
     "name": "stdout",
     "output_type": "stream",
     "text": [
      "[1, 3, 5]\n"
     ]
    }
   ],
   "source": [
    "# list.remove()\n",
    "\n",
    "odd_numbers = [1, 3, 4, 5]\n",
    "\n",
    "odd_numbers.remove(4)\n",
    "\n",
    "print(odd_numbers)\n"
   ]
  },
  {
   "cell_type": "markdown",
   "id": "b434beb0",
   "metadata": {},
   "source": [
    "```{margin}\n",
    "```\n"
   ]
  },
  {
   "cell_type": "markdown",
   "id": "d44f9a4a",
   "metadata": {},
   "source": [
    "```{margin}\n",
    "```\n"
   ]
  },
  {
   "cell_type": "markdown",
   "id": "ee58611d",
   "metadata": {},
   "source": [
    "```{margin}\n",
    "```\n"
   ]
  },
  {
   "cell_type": "markdown",
   "id": "09c69ef0",
   "metadata": {},
   "source": [
    "- ### Commonly used built-in functions that can be used on `list`"
   ]
  },
  {
   "cell_type": "markdown",
   "id": "cc3b3204",
   "metadata": {},
   "source": [
    "<div class=\"alert alert-block alert-info\">\n",
    "len(list) -\n",
    "Gives the total length of the list\n",
    "<br><br>\n",
    "max(list) and min(list) -\n",
    "Returns item from the list with max/min value\n",
    "<br><br>\n",
    "sum(list)\n",
    "Sums up the numbers in the list\n",
    "<br><br>\n",
    "...... "
   ]
  },
  {
   "cell_type": "code",
   "execution_count": 27,
   "id": "cffac910",
   "metadata": {},
   "outputs": [
    {
     "name": "stdout",
     "output_type": "stream",
     "text": [
      "5\n"
     ]
    }
   ],
   "source": [
    "# len(list)\n",
    "\n",
    "salaries = [5000, 6000, 5000, 5500, 4000]\n",
    "\n",
    "print(len(salaries))\n"
   ]
  },
  {
   "cell_type": "code",
   "execution_count": 28,
   "id": "40622036",
   "metadata": {},
   "outputs": [
    {
     "name": "stdout",
     "output_type": "stream",
     "text": [
      "6000\n",
      "4000\n"
     ]
    }
   ],
   "source": [
    "# max(list), min(list)\n",
    "\n",
    "print(max(salaries))\n",
    "\n",
    "print(min(salaries))\n"
   ]
  },
  {
   "cell_type": "code",
   "execution_count": 29,
   "id": "8f3bc9bc",
   "metadata": {},
   "outputs": [
    {
     "name": "stdout",
     "output_type": "stream",
     "text": [
      "25500\n"
     ]
    }
   ],
   "source": [
    "# sum(list)\n",
    "\n",
    "print(sum(salaries))"
   ]
  },
  {
   "cell_type": "markdown",
   "id": "dc1dfff8",
   "metadata": {},
   "source": [
    "```{margin}\n",
    "```\n"
   ]
  },
  {
   "cell_type": "markdown",
   "id": "ac0e2c00",
   "metadata": {},
   "source": [
    "```{margin}\n",
    "```\n"
   ]
  },
  {
   "cell_type": "markdown",
   "id": "e253bc0b",
   "metadata": {},
   "source": [
    "```{margin}\n",
    "```\n"
   ]
  },
  {
   "cell_type": "markdown",
   "id": "a5cc40d8",
   "metadata": {},
   "source": [
    "```{margin}\n",
    "```\n"
   ]
  },
  {
   "cell_type": "markdown",
   "id": "cc3469bd",
   "metadata": {},
   "source": [
    "```{margin}\n",
    "```\n"
   ]
  },
  {
   "cell_type": "markdown",
   "id": "b11b2672",
   "metadata": {},
   "source": [
    "```{margin}\n",
    "```\n"
   ]
  },
  {
   "cell_type": "markdown",
   "id": "f6505e3e",
   "metadata": {},
   "source": [
    "## Exercise\n",
    "\n",
    "You are asked to calculate the average salary of all employees from three companies.\n",
    "\n",
    "The data are given to you as three arrays `company_one`,`company_two` and `company_three`.\n",
    "\n",
    "Note that there is a mistake made by the person who collected the data. The last entry in `company_two` was accidentally put as nagative. Correct this mistake before you calculate the average salary.\n"
   ]
  },
  {
   "cell_type": "code",
   "execution_count": null,
   "id": "339a3eba",
   "metadata": {},
   "outputs": [],
   "source": [
    "# data\n",
    "company_one = [6000, 6500, 7000, 5000, 6400]\n",
    "company_one = [5000, 5700, 7300, -5900]      # -5900 should be 5900\n",
    "company_one = [6500, 7000, 4000, 5200, 5700, 5700, 8300]\n",
    "\n",
    "# your solution here:\n"
   ]
  },
  {
   "cell_type": "markdown",
   "id": "874f9f76",
   "metadata": {},
   "source": [
    "```{margin}\n",
    "```\n"
   ]
  },
  {
   "cell_type": "markdown",
   "id": "bcc91297",
   "metadata": {},
   "source": [
    "```{margin}\n",
    "```\n"
   ]
  },
  {
   "cell_type": "markdown",
   "id": "af08b578",
   "metadata": {},
   "source": [
    "```{margin}\n",
    "```\n"
   ]
  },
  {
   "cell_type": "markdown",
   "id": "0280c278",
   "metadata": {},
   "source": [
    "```{margin}\n",
    "```\n"
   ]
  },
  {
   "cell_type": "markdown",
   "id": "8ddd5332",
   "metadata": {},
   "source": [
    "```{margin}\n",
    "```\n"
   ]
  },
  {
   "cell_type": "markdown",
   "id": "7fed7580",
   "metadata": {},
   "source": [
    "```{margin}\n",
    "```\n"
   ]
  },
  {
   "cell_type": "markdown",
   "id": "85e3bd17",
   "metadata": {},
   "source": [
    "## More To Explore"
   ]
  },
  {
   "cell_type": "markdown",
   "id": "c679baf8",
   "metadata": {},
   "source": [
    "- ### The actual array module in python:<br>\n",
    "\n",
    "> https://docs.python.org/3/library/array.html"
   ]
  },
  {
   "cell_type": "markdown",
   "id": "0daf67ef",
   "metadata": {},
   "source": [
    "- ### Some other stuff we can do with python `list`:"
   ]
  },
  {
   "cell_type": "code",
   "execution_count": null,
   "id": "c0757bd6",
   "metadata": {},
   "outputs": [],
   "source": [
    "# 2-D list\n",
    "\n",
    "two_d_array = [[1, 2, 3], [4, 5, 6], [7, 8, 9]]\n",
    "\n",
    "print(two_d_array[2])    \n",
    "print(two_d_array[2][2])"
   ]
  },
  {
   "cell_type": "code",
   "execution_count": null,
   "id": "8f1e3c8c",
   "metadata": {},
   "outputs": [],
   "source": [
    "# list slicing using the slicing operator [:]\n",
    "# syntax: [S:E] --> getting elements from index S to index E-1\n",
    "\n",
    "my_list = ['a','b', 'c', 'd', 'e', 'f', 'g']\n",
    "\n",
    "# elements from index 2 to index 4\n",
    "print(my_list[2:5])\n",
    "\n",
    "# elements from index 5 to end\n",
    "print(my_list[5:])\n",
    "\n",
    "# elements beginning to end\n",
    "print(my_list[:])\n",
    "\n"
   ]
  }
 ],
 "metadata": {
  "kernelspec": {
   "display_name": "Python 3 (ipykernel)",
   "language": "python",
   "name": "python3"
  },
  "language_info": {
   "codemirror_mode": {
    "name": "ipython",
    "version": 3
   },
   "file_extension": ".py",
   "mimetype": "text/x-python",
   "name": "python",
   "nbconvert_exporter": "python",
   "pygments_lexer": "ipython3",
   "version": "3.9.12"
  }
 },
 "nbformat": 4,
 "nbformat_minor": 5
}
