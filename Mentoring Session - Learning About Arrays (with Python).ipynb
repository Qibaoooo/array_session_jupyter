{
 "cells": [
  {
   "cell_type": "markdown",
   "id": "42e8942a",
   "metadata": {
    "slideshow": {
     "slide_type": "skip"
    }
   },
   "source": [
    "```{margin}\n",
    "```\n"
   ]
  },
  {
   "cell_type": "markdown",
   "id": "5a35a6e8",
   "metadata": {
    "slideshow": {
     "slide_type": "slide"
    }
   },
   "source": [
    "## Introduction 🧑‍💻 \n",
    "---"
   ]
  },
  {
   "cell_type": "markdown",
   "id": "b93c0c65",
   "metadata": {
    "slideshow": {
     "slide_type": "subslide"
    }
   },
   "source": [
    "Our misson today is to cover:\n",
    "- What is an array\n",
    "- How might you use an array\n",
    "- How to write to and read from an array\n",
    "- Helpful methods that can be used with arrays\n",
    "- Quiz\n",
    "<br>\n",
    "<br>\n",
    "\n",
    "#### I will use python as the language of instruction\n",
    "\n"
   ]
  },
  {
   "cell_type": "markdown",
   "id": "51e222cc",
   "metadata": {
    "slideshow": {
     "slide_type": "skip"
    }
   },
   "source": [
    "```{margin}\n",
    "```\n"
   ]
  },
  {
   "cell_type": "markdown",
   "id": "cdf71d8c",
   "metadata": {
    "slideshow": {
     "slide_type": "skip"
    }
   },
   "source": [
    "```{margin}\n",
    "```\n"
   ]
  },
  {
   "cell_type": "markdown",
   "id": "2d757e04",
   "metadata": {
    "slideshow": {
     "slide_type": "skip"
    }
   },
   "source": [
    "```{margin}\n",
    "```\n"
   ]
  },
  {
   "cell_type": "markdown",
   "id": "5bc292a7",
   "metadata": {
    "slideshow": {
     "slide_type": "skip"
    }
   },
   "source": [
    "```{margin}\n",
    "```\n"
   ]
  },
  {
   "cell_type": "markdown",
   "id": "ba2095a9",
   "metadata": {
    "slideshow": {
     "slide_type": "skip"
    }
   },
   "source": [
    "```{margin}\n",
    "```\n"
   ]
  },
  {
   "cell_type": "markdown",
   "id": "f3cff913",
   "metadata": {
    "slideshow": {
     "slide_type": "skip"
    }
   },
   "source": [
    "```{margin}\n",
    "```\n"
   ]
  },
  {
   "cell_type": "markdown",
   "id": "b3d564fc",
   "metadata": {
    "slideshow": {
     "slide_type": "slide"
    }
   },
   "source": [
    "## What is an array?\n",
    "---"
   ]
  },
  {
   "cell_type": "markdown",
   "id": "d45035e4",
   "metadata": {
    "slideshow": {
     "slide_type": "subslide"
    }
   },
   "source": [
    "A general definition:\n",
    "\n",
    "> \" ...array, is a data structure consisting of a **collection of elements** (values or variables), each identified by at least one array index or key... \" [(from wikipedia's 'array' page)](https://en.wikipedia.org/wiki/Array_data_structure)"
   ]
  },
  {
   "cell_type": "markdown",
   "id": "68d8d2cf",
   "metadata": {
    "slideshow": {
     "slide_type": "skip"
    }
   },
   "source": [
    "```{margin}\n",
    "```\n"
   ]
  },
  {
   "cell_type": "markdown",
   "id": "a9095a0f",
   "metadata": {
    "slideshow": {
     "slide_type": "skip"
    }
   },
   "source": [
    "```{margin}\n",
    "```\n"
   ]
  },
  {
   "cell_type": "markdown",
   "id": "26dcd26e",
   "metadata": {
    "slideshow": {
     "slide_type": "skip"
    }
   },
   "source": [
    "```{margin}\n",
    "```\n"
   ]
  },
  {
   "cell_type": "markdown",
   "id": "13629dfc",
   "metadata": {
    "slideshow": {
     "slide_type": "skip"
    }
   },
   "source": [
    "```{margin}\n",
    "```\n"
   ]
  },
  {
   "cell_type": "markdown",
   "id": "665ff530",
   "metadata": {
    "slideshow": {
     "slide_type": "skip"
    }
   },
   "source": [
    "```{margin}\n",
    "```\n"
   ]
  },
  {
   "cell_type": "markdown",
   "id": "4e1a77cf",
   "metadata": {
    "slideshow": {
     "slide_type": "slide"
    }
   },
   "source": [
    "## Why do we need arrays?\n",
    "---"
   ]
  },
  {
   "cell_type": "markdown",
   "id": "4fac9212",
   "metadata": {
    "slideshow": {
     "slide_type": "subslide"
    }
   },
   "source": [
    "Why is a structured collection of elements needed? <br>\n",
    "Why don't we just create a reference for every variable? "
   ]
  },
  {
   "cell_type": "markdown",
   "id": "030c3777",
   "metadata": {
    "slideshow": {
     "slide_type": "subslide"
    }
   },
   "source": [
    "See below example where we test out both approaches - with and without the use of an array."
   ]
  },
  {
   "cell_type": "markdown",
   "id": "43b3fa1c",
   "metadata": {
    "slideshow": {
     "slide_type": "subslide"
    }
   },
   "source": [
    "We are asked to process some raw data about employees' salary.<br>\n",
    "Requirement is : `1)print out the salaries of each employee to console` and then `2)calculate the sum of all salaries`.<br>\n",
    "The data given to us is like this:\n",
    "\n",
    "<div class=\"alert alert-block alert-info\">\n",
    "Employee id, salary <br>\n",
    "0, 5000 <br>\n",
    "1, 6000 <br>\n",
    "2, 5000 <br>\n",
    "3, 5500 <br>\n",
    "4, 4000 <br>\n",
    "</div>"
   ]
  },
  {
   "cell_type": "markdown",
   "id": "1e47c590",
   "metadata": {
    "slideshow": {
     "slide_type": "slide"
    }
   },
   "source": [
    "### Approach 1 - without array 🤷🏻"
   ]
  },
  {
   "cell_type": "code",
   "execution_count": 1,
   "id": "7631291a",
   "metadata": {
    "slideshow": {
     "slide_type": "subslide"
    }
   },
   "outputs": [
    {
     "name": "stdout",
     "output_type": "stream",
     "text": [
      "Salary of employee0 is 5000\n",
      "Salary of employee1 is 6000\n",
      "Salary of employee2 is 5000\n",
      "Salary of employee3 is 5500\n",
      "Salary of employee4 is 4000\n",
      "Sum of all salaries is 25500\n"
     ]
    }
   ],
   "source": [
    "# Without array\n",
    "\n",
    "employee0 = 5000\n",
    "employee1 = 6000\n",
    "employee2 = 5000\n",
    "employee3 = 5500\n",
    "employee4 = 4000\n",
    "\n",
    "print(f'Salary of employee0 is { employee0 }')\n",
    "print(f'Salary of employee1 is { employee1 }')\n",
    "print(f'Salary of employee2 is { employee2 }')\n",
    "print(f'Salary of employee3 is { employee3 }')\n",
    "print(f'Salary of employee4 is { employee4 }')\n",
    "\n",
    "salaries_sum = employee0 + employee1 +employee2 + employee3 + employee4\n",
    "print(f'Sum of all salaries is { salaries_sum }')\n"
   ]
  },
  {
   "cell_type": "markdown",
   "id": "b97c2d1a",
   "metadata": {
    "slideshow": {
     "slide_type": "subslide"
    }
   },
   "source": [
    "> 🙈 <br> Imagine when there are 5000 employees instead of just 5? "
   ]
  },
  {
   "cell_type": "markdown",
   "id": "618ec188",
   "metadata": {
    "slideshow": {
     "slide_type": "subslide"
    }
   },
   "source": [
    "> ✨ <br>  We can use an array to group the data. Then we are able to process them with higher efficiency."
   ]
  },
  {
   "cell_type": "markdown",
   "id": "59d32921",
   "metadata": {
    "slideshow": {
     "slide_type": "slide"
    }
   },
   "source": [
    "### Approach 2 - with array 🙆🏻‍♂️"
   ]
  },
  {
   "cell_type": "code",
   "execution_count": 2,
   "id": "33643044",
   "metadata": {
    "slideshow": {
     "slide_type": "subslide"
    }
   },
   "outputs": [
    {
     "name": "stdout",
     "output_type": "stream",
     "text": [
      "Salary of Employee0 is 5000\n",
      "Salary of Employee1 is 6000\n",
      "Salary of Employee2 is 5000\n",
      "Salary of Employee3 is 5500\n",
      "Salary of Employee4 is 4000\n",
      "Sum of all salaries is 25500\n"
     ]
    }
   ],
   "source": [
    "# With array (list)\n",
    "\n",
    "salaries = [5000, 6000, 5000, 5500, 4000]\n",
    "\n",
    "# a loop to print each entry\n",
    "for i,salary in enumerate(salaries):\n",
    "    print(f'Salary of Employee{ i } is { salary }')\n",
    "\n",
    "# make use of python's sum()\n",
    "print(f'Sum of all salaries is { sum(salaries) }')\n",
    "\n"
   ]
  },
  {
   "cell_type": "markdown",
   "id": "556b2ba9",
   "metadata": {
    "slideshow": {
     "slide_type": "subslide"
    }
   },
   "source": [
    "> 😍 <br> Only 4 lines of code to achieve the same result, no matter how many employees join later!"
   ]
  },
  {
   "cell_type": "markdown",
   "id": "103b625a",
   "metadata": {
    "slideshow": {
     "slide_type": "skip"
    }
   },
   "source": [
    "```{margin}\n",
    "```\n"
   ]
  },
  {
   "cell_type": "markdown",
   "id": "2293cc46",
   "metadata": {
    "slideshow": {
     "slide_type": "skip"
    }
   },
   "source": [
    "```{margin}\n",
    "```\n"
   ]
  },
  {
   "cell_type": "markdown",
   "id": "2908f22d",
   "metadata": {
    "slideshow": {
     "slide_type": "skip"
    }
   },
   "source": [
    "```{margin}\n",
    "```\n"
   ]
  },
  {
   "cell_type": "markdown",
   "id": "86622741",
   "metadata": {
    "slideshow": {
     "slide_type": "skip"
    }
   },
   "source": [
    "```{margin}\n",
    "```\n"
   ]
  },
  {
   "cell_type": "markdown",
   "id": "b90bc7e8",
   "metadata": {
    "slideshow": {
     "slide_type": "skip"
    }
   },
   "source": [
    "```{margin}\n",
    "```\n"
   ]
  },
  {
   "cell_type": "markdown",
   "id": "376414e1",
   "metadata": {
    "slideshow": {
     "slide_type": "skip"
    }
   },
   "source": [
    "```{margin}\n",
    "```\n"
   ]
  },
  {
   "cell_type": "markdown",
   "id": "fe243fb1",
   "metadata": {
    "slideshow": {
     "slide_type": "slide"
    }
   },
   "source": [
    "## \"Array\" in Python 🐍\n",
    "----\n",
    "some terminology"
   ]
  },
  {
   "cell_type": "markdown",
   "id": "cc35baf0",
   "metadata": {
    "slideshow": {
     "slide_type": "subslide"
    }
   },
   "source": [
    "In python, the most commonly used array-like data structure is `list`.\n",
    "\n",
    "In this session, we will focus on learning the basics of python `list`.\n",
    "\n",
    "#### (Python does have `array` as a module and it is part of the python standard library.)"
   ]
  },
  {
   "cell_type": "markdown",
   "id": "168b07b8",
   "metadata": {
    "slideshow": {
     "slide_type": "skip"
    }
   },
   "source": [
    "```{margin}\n",
    "```\n"
   ]
  },
  {
   "cell_type": "markdown",
   "id": "d5a975be",
   "metadata": {
    "slideshow": {
     "slide_type": "skip"
    }
   },
   "source": [
    "```{margin}\n",
    "```\n"
   ]
  },
  {
   "cell_type": "markdown",
   "id": "97514bee",
   "metadata": {
    "slideshow": {
     "slide_type": "skip"
    }
   },
   "source": [
    "```{margin}\n",
    "```\n"
   ]
  },
  {
   "cell_type": "markdown",
   "id": "90ac42f9",
   "metadata": {
    "slideshow": {
     "slide_type": "skip"
    }
   },
   "source": [
    "```{margin}\n",
    "```\n"
   ]
  },
  {
   "cell_type": "markdown",
   "id": "bd2489ff",
   "metadata": {
    "slideshow": {
     "slide_type": "skip"
    }
   },
   "source": [
    "```{margin}\n",
    "```\n"
   ]
  },
  {
   "cell_type": "markdown",
   "id": "18fbbcf4",
   "metadata": {
    "slideshow": {
     "slide_type": "skip"
    }
   },
   "source": [
    "```{margin}\n",
    "```\n"
   ]
  },
  {
   "cell_type": "markdown",
   "id": "c0415850",
   "metadata": {
    "slideshow": {
     "slide_type": "slide"
    }
   },
   "source": [
    "## How do we use a list in python?\n",
    "\n",
    "---\n",
    "- Basic operations\n",
    "- List methods\n",
    "- Built-in functions related to list"
   ]
  },
  {
   "cell_type": "markdown",
   "id": "7a9d57ee",
   "metadata": {
    "slideshow": {
     "slide_type": "slide"
    }
   },
   "source": [
    "\n",
    "### Basic Operations - create, read and write array"
   ]
  },
  {
   "cell_type": "code",
   "execution_count": 3,
   "id": "3df9d609",
   "metadata": {
    "slideshow": {
     "slide_type": "subslide"
    }
   },
   "outputs": [],
   "source": [
    "# Declaration\n",
    "\n",
    "salaries = [5000, 6000, 5000, 5500, 4000]\n",
    "\n",
    "empty_list = []\n",
    "\n",
    "mixed_types = ['zero', 1, 2]"
   ]
  },
  {
   "cell_type": "code",
   "execution_count": 4,
   "id": "27bf309c",
   "metadata": {
    "slideshow": {
     "slide_type": "subslide"
    }
   },
   "outputs": [
    {
     "name": "stdout",
     "output_type": "stream",
     "text": [
      "5000\n",
      "4000\n"
     ]
    }
   ],
   "source": [
    "# Read element\n",
    "\n",
    "salaries = [5000, 6000, 5000, 5500, 4000]\n",
    "\n",
    "print(salaries[0])\n",
    "\n",
    "print(salaries[-1]) # negative indexing\n",
    "\n",
    "# print(salaries[5]) # IndexError"
   ]
  },
  {
   "cell_type": "code",
   "execution_count": 5,
   "id": "cd183dcb",
   "metadata": {
    "slideshow": {
     "slide_type": "subslide"
    }
   },
   "outputs": [
    {
     "name": "stdout",
     "output_type": "stream",
     "text": [
      "salary for Employee0 is now 5001\n"
     ]
    }
   ],
   "source": [
    "# Write element\n",
    "\n",
    "salaries = [5000, 6000, 5000, 5500, 4000]\n",
    "\n",
    "salaries[0] = 5001\n",
    "\n",
    "print(f'salary for Employee0 is now { salaries[0] }')"
   ]
  },
  {
   "cell_type": "markdown",
   "id": "7e92b3b9",
   "metadata": {
    "slideshow": {
     "slide_type": "skip"
    }
   },
   "source": [
    "```{margin}\n",
    "```\n"
   ]
  },
  {
   "cell_type": "markdown",
   "id": "d166f5b9",
   "metadata": {
    "slideshow": {
     "slide_type": "skip"
    }
   },
   "source": [
    "```{margin}\n",
    "```\n"
   ]
  },
  {
   "cell_type": "markdown",
   "id": "a851dfa1",
   "metadata": {
    "slideshow": {
     "slide_type": "skip"
    }
   },
   "source": [
    "```{margin}\n",
    "```\n"
   ]
  },
  {
   "cell_type": "markdown",
   "id": "0b79d35f",
   "metadata": {
    "slideshow": {
     "slide_type": "slide"
    }
   },
   "source": [
    "### List Methods"
   ]
  },
  {
   "cell_type": "markdown",
   "id": "eee5e982",
   "metadata": {
    "slideshow": {
     "slide_type": "subslide"
    }
   },
   "source": [
    "Python includes following list methods:\n",
    "\n",
    "<div class=\"alert alert-block alert-info\">\n",
    "list.append(obj) -\n",
    "Appends object obj to list\n",
    "<br><br>\n",
    "list.count(obj) -\n",
    "Returns count of how many times obj occurs in list\n",
    "<br><br>\n",
    "list.extend(seq) -\n",
    "Appends the contents of seq to list\n",
    "<br><br>\n",
    "list.index(obj) -\n",
    "Returns the lowest index in list that obj appears\n",
    "<br><br>\n",
    "list.insert(index, obj) -\n",
    "Inserts object obj into list at offset index\n",
    "<br><br>\n",
    "list.pop(obj=list[-1]) -\n",
    "Removes and returns last object or obj from list\n",
    "<br><br>\n",
    "list.remove(obj) -\n",
    "Removes object obj from list\n",
    "<br><br>\n",
    "list.reverse() -\n",
    "Reverses objects of list in place\n",
    "<br><br>\n",
    "list.sort([func]) -\n",
    "Sorts objects of list, use compare func if given\n",
    "</div>"
   ]
  },
  {
   "cell_type": "code",
   "execution_count": 6,
   "id": "029eecad",
   "metadata": {
    "slideshow": {
     "slide_type": "subslide"
    }
   },
   "outputs": [
    {
     "name": "stdout",
     "output_type": "stream",
     "text": [
      "[1, 3, 5, 7]\n"
     ]
    }
   ],
   "source": [
    "# list.append()\n",
    "\n",
    "odd_numbers = [1, 3, 5]\n",
    "\n",
    "odd_numbers.append(7)\n",
    "\n",
    "print(odd_numbers)\n"
   ]
  },
  {
   "cell_type": "code",
   "execution_count": 7,
   "id": "c3db94d6",
   "metadata": {
    "slideshow": {
     "slide_type": "subslide"
    }
   },
   "outputs": [
    {
     "name": "stdout",
     "output_type": "stream",
     "text": [
      "[1, 3, 5, 7, 9, 11, 13]\n"
     ]
    }
   ],
   "source": [
    "# list.extend()\n",
    "\n",
    "odd_numbers = [1, 3, 5]\n",
    "\n",
    "odd_numbers.extend([7, 9, 11, 13])\n",
    "\n",
    "print(odd_numbers)\n"
   ]
  },
  {
   "cell_type": "code",
   "execution_count": 8,
   "id": "42911238",
   "metadata": {
    "slideshow": {
     "slide_type": "subslide"
    }
   },
   "outputs": [
    {
     "name": "stdout",
     "output_type": "stream",
     "text": [
      "[1, 3, 5, 7, 9, 11, 13]\n"
     ]
    }
   ],
   "source": [
    "# we can also use + operator to combine two list,\n",
    "# it is called 'concatenation'\n",
    "\n",
    "odd_numbers = [1, 3, 5]\n",
    "\n",
    "print(odd_numbers + [7, 9, 11, 13])\n"
   ]
  },
  {
   "cell_type": "code",
   "execution_count": 9,
   "id": "3e2393fb",
   "metadata": {
    "slideshow": {
     "slide_type": "subslide"
    }
   },
   "outputs": [
    {
     "name": "stdout",
     "output_type": "stream",
     "text": [
      "2\n"
     ]
    }
   ],
   "source": [
    "# list.index()\n",
    "\n",
    "odd_numbers = [1, 3, 5]\n",
    "\n",
    "print(odd_numbers.index(5))\n",
    "\n",
    "# print(odd_numbers.index(99)) # ValueError\n"
   ]
  },
  {
   "cell_type": "code",
   "execution_count": 10,
   "id": "7481c3e8",
   "metadata": {
    "slideshow": {
     "slide_type": "subslide"
    }
   },
   "outputs": [
    {
     "name": "stdout",
     "output_type": "stream",
     "text": [
      "[1, 3, 5]\n"
     ]
    }
   ],
   "source": [
    "# list.remove()\n",
    "\n",
    "odd_numbers = [1, 3, 4, 5]\n",
    "\n",
    "odd_numbers.remove(4)\n",
    "\n",
    "print(odd_numbers)\n"
   ]
  },
  {
   "cell_type": "markdown",
   "id": "b434beb0",
   "metadata": {
    "slideshow": {
     "slide_type": "skip"
    }
   },
   "source": [
    "```{margin}\n",
    "```\n"
   ]
  },
  {
   "cell_type": "markdown",
   "id": "bd04bf19",
   "metadata": {
    "slideshow": {
     "slide_type": "skip"
    }
   },
   "source": [
    "```{margin}\n",
    "```\n"
   ]
  },
  {
   "cell_type": "markdown",
   "id": "ee58611d",
   "metadata": {
    "slideshow": {
     "slide_type": "skip"
    }
   },
   "source": [
    "```{margin}\n",
    "```\n"
   ]
  },
  {
   "cell_type": "markdown",
   "id": "b2235296",
   "metadata": {
    "slideshow": {
     "slide_type": "slide"
    }
   },
   "source": [
    "### Python also has built-in functions that can be used on `list`"
   ]
  },
  {
   "cell_type": "markdown",
   "id": "cc3b3204",
   "metadata": {
    "slideshow": {
     "slide_type": "subslide"
    }
   },
   "source": [
    "A few functions for example:\n",
    "\n",
    "<div class=\"alert alert-block alert-info\">\n",
    "len(list) -\n",
    "Gives the total length of the list\n",
    "<br><br>\n",
    "max(list) and min(list) -\n",
    "Returns item from the list with max/min value\n",
    "<br><br>\n",
    "sum(list)\n",
    "Sums up the numbers in the list\n",
    "<br><br>\n",
    "...... "
   ]
  },
  {
   "cell_type": "code",
   "execution_count": 11,
   "id": "cffac910",
   "metadata": {
    "slideshow": {
     "slide_type": "subslide"
    }
   },
   "outputs": [
    {
     "name": "stdout",
     "output_type": "stream",
     "text": [
      "5\n"
     ]
    }
   ],
   "source": [
    "# len(list)\n",
    "\n",
    "salaries = [5000, 6000, 5000, 5500, 4000]\n",
    "\n",
    "print(len(salaries))\n"
   ]
  },
  {
   "cell_type": "code",
   "execution_count": 12,
   "id": "40622036",
   "metadata": {
    "slideshow": {
     "slide_type": "subslide"
    }
   },
   "outputs": [
    {
     "name": "stdout",
     "output_type": "stream",
     "text": [
      "6000\n",
      "4000\n"
     ]
    }
   ],
   "source": [
    "# max(list), min(list)\n",
    "\n",
    "salaries = [5000, 6000, 5000, 5500, 4000]\n",
    "\n",
    "print(max(salaries))\n",
    "\n",
    "print(min(salaries))\n"
   ]
  },
  {
   "cell_type": "code",
   "execution_count": 13,
   "id": "8f3bc9bc",
   "metadata": {
    "slideshow": {
     "slide_type": "subslide"
    }
   },
   "outputs": [
    {
     "name": "stdout",
     "output_type": "stream",
     "text": [
      "25500\n"
     ]
    }
   ],
   "source": [
    "# sum(list)\n",
    "\n",
    "salaries = [5000, 6000, 5000, 5500, 4000]\n",
    "\n",
    "print(sum(salaries))"
   ]
  },
  {
   "cell_type": "markdown",
   "id": "dc1dfff8",
   "metadata": {
    "slideshow": {
     "slide_type": "skip"
    }
   },
   "source": [
    "```{margin}\n",
    "```\n"
   ]
  },
  {
   "cell_type": "markdown",
   "id": "ac0e2c00",
   "metadata": {
    "slideshow": {
     "slide_type": "skip"
    }
   },
   "source": [
    "```{margin}\n",
    "```\n"
   ]
  },
  {
   "cell_type": "markdown",
   "id": "e253bc0b",
   "metadata": {
    "slideshow": {
     "slide_type": "skip"
    }
   },
   "source": [
    "```{margin}\n",
    "```\n"
   ]
  },
  {
   "cell_type": "markdown",
   "id": "a5cc40d8",
   "metadata": {
    "slideshow": {
     "slide_type": "skip"
    }
   },
   "source": [
    "```{margin}\n",
    "```\n"
   ]
  },
  {
   "cell_type": "markdown",
   "id": "cc3469bd",
   "metadata": {
    "slideshow": {
     "slide_type": "skip"
    }
   },
   "source": [
    "```{margin}\n",
    "```\n"
   ]
  },
  {
   "cell_type": "markdown",
   "id": "d0e3bb79",
   "metadata": {
    "slideshow": {
     "slide_type": "slide"
    }
   },
   "source": [
    "## Exercise 🏋🏼🏋🏼🏋🏼"
   ]
  },
  {
   "cell_type": "markdown",
   "id": "f6505e3e",
   "metadata": {
    "slideshow": {
     "slide_type": "subslide"
    }
   },
   "source": [
    "You are asked to calculate the \n",
    "**average** salary of all employees from three companies.\n",
    "\n",
    "The data are given to you as three arrays `company_one`,`company_two` and `company_three`.\n",
    "\n",
    "Note that there is a mistake made by the person who collected the data. The last entry in `company_two` was accidentally put as **negative**. Correct this mistake before you calculate the average salary.\n",
    "\n",
    "<div class=\"alert alert-block alert-info\">\n",
    "company_one = [6000, 6500, 7000, 5000, 6400]<br>\n",
    "company_two = [5000, 5700, 7300, -5900] &emsp;&emsp;&emsp;&emsp;&emsp;&emsp;&emsp;&emsp; (-5900 needs to be changed to 5900)<br>\n",
    "company_three = [6500, 7000, 4000, 5200, 5700, 5700, 8300]<br>\n",
    "<div>"
   ]
  },
  {
   "cell_type": "code",
   "execution_count": 14,
   "id": "339a3eba",
   "metadata": {
    "slideshow": {
     "slide_type": "subslide"
    }
   },
   "outputs": [],
   "source": [
    "# data\n",
    "company_one = [6000, 6500, 7000, 5000, 6400]\n",
    "company_two = [5000, 5700, 7300, -5900]\n",
    "company_three = [6500, 7000, 4000, 5200, 5700, 5700, 8300]\n",
    "\n",
    "# your solution here:\n"
   ]
  },
  {
   "cell_type": "markdown",
   "id": "8ddd5332",
   "metadata": {
    "slideshow": {
     "slide_type": "skip"
    }
   },
   "source": [
    "```{margin}\n",
    "```\n"
   ]
  },
  {
   "cell_type": "markdown",
   "id": "8dd51643",
   "metadata": {
    "slideshow": {
     "slide_type": "skip"
    }
   },
   "source": [
    "```{margin}\n",
    "```\n"
   ]
  },
  {
   "cell_type": "markdown",
   "id": "bd1900f0",
   "metadata": {
    "slideshow": {
     "slide_type": "skip"
    }
   },
   "source": [
    "```{margin}\n",
    "```\n"
   ]
  },
  {
   "cell_type": "markdown",
   "id": "1f6fa78a",
   "metadata": {
    "slideshow": {
     "slide_type": "skip"
    }
   },
   "source": [
    "```{margin}\n",
    "```\n"
   ]
  },
  {
   "cell_type": "markdown",
   "id": "91177de2",
   "metadata": {
    "slideshow": {
     "slide_type": "skip"
    }
   },
   "source": [
    "```{margin}\n",
    "```\n"
   ]
  },
  {
   "cell_type": "markdown",
   "id": "fc7bf079",
   "metadata": {
    "slideshow": {
     "slide_type": "skip"
    }
   },
   "source": [
    "```{margin}\n",
    "```\n"
   ]
  },
  {
   "cell_type": "markdown",
   "id": "85e3bd17",
   "metadata": {
    "slideshow": {
     "slide_type": "slide"
    }
   },
   "source": [
    "## More To Explore"
   ]
  },
  {
   "cell_type": "markdown",
   "id": "c679baf8",
   "metadata": {
    "slideshow": {
     "slide_type": "subslide"
    }
   },
   "source": [
    "### The actual array module in python:<br>\n",
    "\n",
    "> https://docs.python.org/3/library/array.html"
   ]
  },
  {
   "cell_type": "markdown",
   "id": "e0403379",
   "metadata": {
    "slideshow": {
     "slide_type": "subslide"
    }
   },
   "source": [
    "### Some other stuff we can do with python `list`:"
   ]
  },
  {
   "cell_type": "code",
   "execution_count": 15,
   "id": "c0757bd6",
   "metadata": {
    "slideshow": {
     "slide_type": "subslide"
    }
   },
   "outputs": [
    {
     "name": "stdout",
     "output_type": "stream",
     "text": [
      "[7, 8, 9]\n",
      "9\n"
     ]
    }
   ],
   "source": [
    "# 2-D list\n",
    "\n",
    "two_d_array = [[1, 2, 3], [4, 5, 6], [7, 8, 9]]\n",
    "\n",
    "print(two_d_array[2])    \n",
    "print(two_d_array[2][2])"
   ]
  },
  {
   "cell_type": "code",
   "execution_count": 16,
   "id": "8f1e3c8c",
   "metadata": {
    "slideshow": {
     "slide_type": "subslide"
    }
   },
   "outputs": [
    {
     "name": "stdout",
     "output_type": "stream",
     "text": [
      "['c', 'd', 'e']\n",
      "['f', 'g']\n",
      "['a', 'b', 'c', 'd', 'e', 'f', 'g']\n"
     ]
    }
   ],
   "source": [
    "# list slicing using the slicing operator [:]\n",
    "# syntax: [S:E] --> getting elements from index S to index E-1\n",
    "\n",
    "my_list = ['a','b', 'c', 'd', 'e', 'f', 'g']\n",
    "\n",
    "# elements from index 2 to index 4\n",
    "print(my_list[2:5])\n",
    "\n",
    "# elements from index 5 to end\n",
    "print(my_list[5:])\n",
    "\n",
    "# elements beginning to end\n",
    "print(my_list[:])\n",
    "\n"
   ]
  },
  {
   "cell_type": "code",
   "execution_count": null,
   "id": "fa84074b",
   "metadata": {},
   "outputs": [],
   "source": []
  }
 ],
 "metadata": {
  "celltoolbar": "Slideshow",
  "kernelspec": {
   "display_name": "Python 3 (ipykernel)",
   "language": "python",
   "name": "python3"
  },
  "language_info": {
   "codemirror_mode": {
    "name": "ipython",
    "version": 3
   },
   "file_extension": ".py",
   "mimetype": "text/x-python",
   "name": "python",
   "nbconvert_exporter": "python",
   "pygments_lexer": "ipython3",
   "version": "3.9.12"
  }
 },
 "nbformat": 4,
 "nbformat_minor": 5
}
